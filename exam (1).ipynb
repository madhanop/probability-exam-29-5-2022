{
 "cells": [
  {
   "cell_type": "markdown",
   "id": "6fea52c0",
   "metadata": {},
   "source": [
    "# Q1"
   ]
  },
  {
   "cell_type": "code",
   "execution_count": 1,
   "id": "f45f3c78",
   "metadata": {},
   "outputs": [
    {
     "name": "stdout",
     "output_type": "stream",
     "text": [
      "Probability is : 0.01656862745098039\n"
     ]
    }
   ],
   "source": [
    "pa = 13/52\n",
    "pb = 13/51\n",
    "pc = 13/50\n",
    "p = pa*pb*pc\n",
    "print(\"Probability is :\",p)"
   ]
  },
  {
   "cell_type": "markdown",
   "id": "16e80a4f",
   "metadata": {},
   "source": [
    "# Q2"
   ]
  },
  {
   "cell_type": "code",
   "execution_count": 3,
   "id": "3bbe9738",
   "metadata": {},
   "outputs": [
    {
     "name": "stdout",
     "output_type": "stream",
     "text": [
      "either action or drama: 0.78\n",
      "either horror or comedy: 0.66\n"
     ]
    }
   ],
   "source": [
    "pa = 42/100\n",
    "pc = 54/100\n",
    "pd=36/100\n",
    "ph=12/100\n",
    "pA=pa+pd\n",
    "pB=ph+pc\n",
    "print(\"either action or drama:\",pA)\n",
    "print(\"either horror or comedy:\",pB)\n"
   ]
  },
  {
   "cell_type": "markdown",
   "id": "bc175774",
   "metadata": {},
   "source": [
    "# Q3"
   ]
  },
  {
   "cell_type": "markdown",
   "id": "7342098c",
   "metadata": {},
   "source": [
    "p(A)=p(B)=1/2\n",
    "p(B/A)=5/8\n",
    "p(B/B)=7/11\n",
    "\n",
    "p(B/B) =  p(B) * p(B/B) / ((p(A) * p(B/A) + p(B) * p(B/B))\n",
    "       = (1/2 * 7/11) / ((1/2 * 5/8) + (1/2 * 7/11))\n",
    "       = (7/22) / (5/16 + 7/22)\n",
    "       = 0.504\n"
   ]
  },
  {
   "cell_type": "markdown",
   "id": "067a226c",
   "metadata": {},
   "source": [
    "# Q4"
   ]
  },
  {
   "cell_type": "markdown",
   "id": "0c3b6ead",
   "metadata": {},
   "source": [
    "given 450 applications in 1 hr\n",
    "\n",
    "1.Recieving 10 applications in 1 minute\n",
    " \n",
    "     lambda = 450/60\n",
    "     \n",
    "     lambda = 15/12 for x=10\n",
    "     \n",
    "              e**(-15/2) . (15/2)**10\n",
    "     p(X=x) = --------------------------\n",
    "                        10!\n",
    "              = 0.0858\n",
    "           \n",
    "2.Recieving atleast 17 applications in 2 minutes\n",
    "\n",
    "             e**(-15/2) . (15/2)**17\n",
    "     p(X=x) = --------------------------\n",
    "                        17!\n",
    "        \n",
    "             =  0.6321\n",
    "                       \n",
    "            "
   ]
  },
  {
   "cell_type": "markdown",
   "id": "ef2db24e",
   "metadata": {},
   "source": [
    "# Q6"
   ]
  },
  {
   "cell_type": "markdown",
   "id": "fc63ee3e",
   "metadata": {},
   "source": [
    "µ  = 350870\n",
    "σ = 12405\n",
    "z =( x-µ )/σ\n",
    "0.675 = (x-350870)/12405\n",
    "x= 350870 + (0.675 * 12405)\n",
    "x=359237.045\n",
    "75th percentile of prices = 359237.045"
   ]
  },
  {
   "cell_type": "markdown",
   "id": "ac22a0b0",
   "metadata": {},
   "source": [
    "# Q7"
   ]
  },
  {
   "cell_type": "code",
   "execution_count": 6,
   "id": "4fdbd29b",
   "metadata": {},
   "outputs": [
    {
     "name": "stdout",
     "output_type": "stream",
     "text": [
      "F-STATISTIC is  : 0.9921235138705414\n"
     ]
    }
   ],
   "source": [
    "UC=[44,21,36,34,77,32,29,39,92,67,45,37]\n",
    "MV=[47,81,41,79,38,20,33,83,41,40,69,36]\n",
    "import numpy as np\n",
    "x = np.array(UC)\n",
    "y = np.array(MV)\n",
    "f = np.var(x, ddof=1)/np.var(y, ddof=1)\n",
    "print(\"F-STATISTIC is  :\",f)"
   ]
  },
  {
   "cell_type": "markdown",
   "id": "7f12e866",
   "metadata": {},
   "source": [
    "# Q9"
   ]
  },
  {
   "cell_type": "code",
   "execution_count": 5,
   "id": "86701068",
   "metadata": {},
   "outputs": [
    {
     "name": "stdout",
     "output_type": "stream",
     "text": [
      "0.040177141568228006\n"
     ]
    }
   ],
   "source": [
    "from scipy.stats import poisson\n",
    "prob = poisson.pmf(k=80,mu=76)\n",
    "print(prob)"
   ]
  },
  {
   "cell_type": "markdown",
   "id": "e38c4e9f",
   "metadata": {},
   "source": [
    "# Q10"
   ]
  },
  {
   "cell_type": "code",
   "execution_count": 6,
   "id": "381a3392",
   "metadata": {},
   "outputs": [
    {
     "name": "stdout",
     "output_type": "stream",
     "text": [
      "t statistic:  0.005797458326840068\n",
      "P  value 0.9955622744066261\n"
     ]
    }
   ],
   "source": [
    "from scipy.stats import ttest_1samp\n",
    "x = [1419,1320,1526,1289,1620,2067,2055]\n",
    "tscore, pvalue = ttest_1samp(x, popmean=1613)\n",
    "print(\"t statistic: \",tscore)\n",
    "print(\"P  value\",pvalue)"
   ]
  },
  {
   "cell_type": "code",
   "execution_count": null,
   "id": "c3530dc2",
   "metadata": {},
   "outputs": [],
   "source": []
  },
  {
   "cell_type": "code",
   "execution_count": null,
   "id": "7716c43b",
   "metadata": {},
   "outputs": [],
   "source": []
  }
 ],
 "metadata": {
  "kernelspec": {
   "display_name": "Python 3 (ipykernel)",
   "language": "python",
   "name": "python3"
  },
  "language_info": {
   "codemirror_mode": {
    "name": "ipython",
    "version": 3
   },
   "file_extension": ".py",
   "mimetype": "text/x-python",
   "name": "python",
   "nbconvert_exporter": "python",
   "pygments_lexer": "ipython3",
   "version": "3.9.7"
  }
 },
 "nbformat": 4,
 "nbformat_minor": 5
}
